{
 "cells": [
  {
   "cell_type": "code",
   "id": "initial_id",
   "metadata": {
    "collapsed": true,
    "ExecuteTime": {
     "end_time": "2024-08-27T01:12:06.875662Z",
     "start_time": "2024-08-27T01:12:06.473779Z"
    }
   },
   "source": "!uv pip install semsimian pandas tqdm",
   "outputs": [
    {
     "name": "stdout",
     "output_type": "stream",
     "text": [
      "\u001B[2K\u001B[2mResolved \u001B[1m8 packages\u001B[0m in 166ms\u001B[0m                                                 \u001B[0m\r\n",
      "\u001B[2K\u001B[2mDownloaded \u001B[1m1 package\u001B[0m in 33ms\u001B[0m                                        \u001B[0m\r\n",
      "\u001B[2K\u001B[2mInstalled \u001B[1m1 package\u001B[0m in 6ms\u001B[0m5                                         \u001B[0m\r\n",
      " \u001B[32m+\u001B[39m \u001B[1mtqdm\u001B[0m\u001B[2m==4.66.5\u001B[0m\r\n"
     ]
    }
   ],
   "execution_count": 18
  },
  {
   "metadata": {
    "ExecuteTime": {
     "end_time": "2024-08-27T00:30:14.492158Z",
     "start_time": "2024-08-27T00:30:13.631634Z"
    }
   },
   "cell_type": "code",
   "source": [
    "from semsimian import Semsimian\n",
    "\n",
    "predicates= [\n",
    "    \"rdfs:subClassOf\",\n",
    "    \"BFO:0000050\",\n",
    "    \"UPHENO:0000001\",\n",
    "]\n",
    "semsimian = Semsimian(\n",
    "    spo=None,\n",
    "    predicates=predicates,\n",
    "    pairwise_similarity_attributes=None,\n",
    "    resource_path=\"./go.db\",\n",
    ")"
   ],
   "id": "8b904bb86f6b5a23",
   "outputs": [],
   "execution_count": 3
  },
  {
   "metadata": {
    "ExecuteTime": {
     "end_time": "2024-08-27T00:30:21.991167Z",
     "start_time": "2024-08-27T00:30:21.988489Z"
    }
   },
   "cell_type": "code",
   "source": [
    "def search(go_terms: list[str]):\n",
    "    \n",
    "    subject_prefixes = [\"HGNC:\"]\n",
    "    assoc_predicate = {\n",
    "        \"biolink:enables\",\n",
    "        \"biolink:actively_involved_in\",\n",
    "        \"biolink:located_in\",\n",
    "        \"biolink:active_in\",\n",
    "        \"biolink:part_of\",\n",
    "        \"biolink:acts_upstream_of\",\n",
    "        \"biolink:contributes_to\",\n",
    "        \"biolink:acts_upstream_of_or_within\",\n",
    "        \"biolink:colocalizes_with\",\n",
    "        \"biolink:acts_upstream_of_positive_effect\",\n",
    "        \"biolink:acts_upstream_of_or_within_positive_effect\",\n",
    "        \"biolink:acts_upstream_of_negative_effect\",\n",
    "        \"biolink:acts_upstream_of_or_within_negative_effect\"\n",
    "    }\n",
    "    limit = 50000\n",
    "    return semsimian.associations_search(\n",
    "        assoc_predicate, # assoc_predicate\n",
    "        set(go_terms), # object_terms\n",
    "        False, # is_subject    \n",
    "        \"full\", # search_type\n",
    "        None, # subject_terms\n",
    "        subject_prefixes,\n",
    "        \"ancestor_information_content\", # metric\n",
    "        limit,\n",
    "        \"bidirectional\" # direction\n",
    "    )\n"
   ],
   "id": "ef93c9a35b227cb2",
   "outputs": [],
   "execution_count": 6
  },
  {
   "metadata": {
    "ExecuteTime": {
     "end_time": "2024-08-27T00:30:25.862254Z",
     "start_time": "2024-08-27T00:30:25.453179Z"
    }
   },
   "cell_type": "code",
   "source": [
    "import pandas as pd\n",
    "\n",
    "def load_go_associations(file_path):\n",
    "    # Read the TSV file into a DataFrame, skipping the first row\n",
    "    df = pd.read_csv(file_path, delimiter='\\t', skiprows=1, header=None)\n",
    "\n",
    "    # Create a dictionary from the DataFrame\n",
    "    result = {row[0]: row[1].split('|') for _, row in df.iterrows()}\n",
    "\n",
    "    return result\n",
    "\n",
    "go_associations = load_go_associations('go_list_per_gene.tsv')"
   ],
   "id": "419eeac90e24c125",
   "outputs": [],
   "execution_count": 7
  },
  {
   "metadata": {},
   "cell_type": "code",
   "outputs": [],
   "execution_count": null,
   "source": [
    "gencc = pd.read_csv('gencc.tsv', delimiter='\\t')\n",
    "gencc_genes = gencc['gene_curie'].unique().tolist()\n",
    "\n",
    "# write to tsv file\n",
    "with open('gencc_semsimian_search_results.tsv', 'w') as f:\n",
    "    f.write('gene_a\\tgene_b\\tscore\\n')\n",
    "\n",
    "    for gene in gencc_genes:\n",
    "        if gene not in go_associations:\n",
    "            continue\n",
    "        results = search(go_associations[gene])\n",
    "        for result in results:\n",
    "            matching_gene = result[2]\n",
    "            score = result[0]\n",
    "            f.write(f\"{gene}\\t{matching_gene}\\t{score}\\n\")\n",
    "        f.flush()#%%\n",
    "\n",
    "gencc = pd.read_csv('gencc.tsv', delimiter='\\t')\n",
    "gencc_genes = gencc['gene_curie'].unique().tolist()\n",
    "\n",
    "# write to tsv file\n",
    "with open('gencc_semsimian_search_results.tsv', 'w') as f:\n",
    "    f.write('gene_a\\tgene_b\\tscore\\n')\n",
    "\n",
    "    for gene in gencc_genes:\n",
    "            results = search(go_associations[gene])            \n",
    "            for result in results:\n",
    "                matching_gene = result[2]\n",
    "                score = result[0]\n",
    "                f.write(f\"{gene}\\t{matching_gene}\\t{score}\\n\")\n",
    "            f.flush()\n",
    "\n"
   ],
   "id": "cf4ec753e05c8f2"
  }
 ],
 "metadata": {
  "kernelspec": {
   "display_name": "Python 3",
   "language": "python",
   "name": "python3"
  },
  "language_info": {
   "codemirror_mode": {
    "name": "ipython",
    "version": 2
   },
   "file_extension": ".py",
   "mimetype": "text/x-python",
   "name": "python",
   "nbconvert_exporter": "python",
   "pygments_lexer": "ipython2",
   "version": "2.7.6"
  }
 },
 "nbformat": 4,
 "nbformat_minor": 5
}
