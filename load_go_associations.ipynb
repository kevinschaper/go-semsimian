{
 "cells": [
  {
   "metadata": {},
   "cell_type": "markdown",
   "source": "Download monarch-kg sqlite artifact, phenio sqlite artifact and gencc g2d associations",
   "id": "3fa0a4d23e8ec27"
  },
  {
   "metadata": {
    "ExecuteTime": {
     "end_time": "2024-08-13T18:48:20.361130Z",
     "start_time": "2024-08-13T18:45:53.475225Z"
    }
   },
   "cell_type": "code",
   "source": [
    "!wget https://data.monarchinitiative.org/monarch-kg/latest/monarch-kg.db.gz\n",
    "!wget https://data.monarchinitiative.org/monarch-kg/latest/phenio.db.gz\n",
    "!wget -O gencc.tsv https://search.thegencc.org/download/action/submissions-export-tsv\n",
    "\n",
    "!gunzip monarch-kg.db.gz\n",
    "!gunzip phenio.db.gz"
   ],
   "id": "initial_id",
   "outputs": [
    {
     "name": "stdout",
     "output_type": "stream",
     "text": [
      "--2024-08-13 11:45:53--  https://data.monarchinitiative.org/monarch-kg/latest/monarch-kg.db.gz\r\n",
      "Resolving data.monarchinitiative.org (data.monarchinitiative.org)... 35.208.191.193\r\n",
      "Connecting to data.monarchinitiative.org (data.monarchinitiative.org)|35.208.191.193|:443... connected.\r\n",
      "HTTP request sent, awaiting response... 200 OK\r\n",
      "Length: 3202039360 (3.0G) [application/octet-stream]\r\n",
      "Saving to: ‘monarch-kg.db.gz’\r\n",
      "\r\n",
      "monarch-kg.db.gz    100%[===================>]   2.98G  48.5MB/s    in 59s     \r\n",
      "\r\n",
      "2024-08-13 11:46:52 (52.0 MB/s) - ‘monarch-kg.db.gz’ saved [3202039360/3202039360]\r\n",
      "\r\n",
      "--2024-08-13 11:46:52--  https://data.monarchinitiative.org/monarch-kg/latest/phenio.db.gz\r\n",
      "Resolving data.monarchinitiative.org (data.monarchinitiative.org)... 35.208.191.193\r\n",
      "Connecting to data.monarchinitiative.org (data.monarchinitiative.org)|35.208.191.193|:443... connected.\r\n",
      "HTTP request sent, awaiting response... 200 OK\r\n",
      "Length: 2219876009 (2.1G) [application/octet-stream]\r\n",
      "Saving to: ‘phenio.db.gz’\r\n",
      "\r\n",
      "phenio.db.gz        100%[===================>]   2.07G  50.6MB/s    in 43s     \r\n",
      "\r\n",
      "2024-08-13 11:47:36 (49.2 MB/s) - ‘phenio.db.gz’ saved [2219876009/2219876009]\r\n",
      "\r\n",
      "--2024-08-13 11:47:36--  https://search.thegencc.org/download/action/submissions-export-tsv\r\n",
      "Resolving search.thegencc.org (search.thegencc.org)... 35.243.222.62\r\n",
      "Connecting to search.thegencc.org (search.thegencc.org)|35.243.222.62|:443... connected.\r\n",
      "HTTP request sent, awaiting response... 200 OK\r\n",
      "Length: 13531306 (13M) [text/plain]\r\n",
      "Saving to: ‘gencc.tsv’\r\n",
      "\r\n",
      "gencc.tsv           100%[===================>]  12.90M  14.5MB/s    in 0.9s    \r\n",
      "\r\n",
      "2024-08-13 11:47:48 (14.5 MB/s) - ‘gencc.tsv’ saved [13531306/13531306]\r\n",
      "\r\n"
     ]
    }
   ],
   "execution_count": 1
  },
  {
   "metadata": {},
   "cell_type": "markdown",
   "source": "Load gencc associations into monarch-kg.db",
   "id": "c45e5230ec043ac5"
  },
  {
   "metadata": {
    "ExecuteTime": {
     "end_time": "2024-08-13T18:49:35.453491Z",
     "start_time": "2024-08-13T18:49:34.992457Z"
    }
   },
   "cell_type": "code",
   "source": "!sqlite3 -cmd \".mode tabs\" monarch-kg.db \".import gencc.tsv gencc\"",
   "id": "cf129b84a74b7875",
   "outputs": [],
   "execution_count": 3
  },
  {
   "metadata": {},
   "cell_type": "markdown",
   "source": "Look at the structure of the gencc talbe we just made from the gencc file",
   "id": "3f71742a86fb26e2"
  },
  {
   "metadata": {},
   "cell_type": "code",
   "outputs": [
    {
     "name": "stdout",
     "output_type": "stream",
     "text": [
      "CREATE TABLE IF NOT EXISTS \"gencc\"(\r\n",
      "\"uuid\" TEXT, \"gene_curie\" TEXT, \"gene_symbol\" TEXT, \"disease_curie\" TEXT,\r\n",
      " \"disease_title\" TEXT, \"disease_original_curie\" TEXT, \"disease_original_title\" TEXT, \"classification_curie\" TEXT,\r\n",
      " \"classification_title\" TEXT, \"moi_curie\" TEXT, \"moi_title\" TEXT, \"submitter_curie\" TEXT,\r\n",
      " \"submitter_title\" TEXT, \"submitted_as_hgnc_id\" TEXT, \"submitted_as_hgnc_symbol\" TEXT, \"submitted_as_disease_id\" TEXT,\r\n",
      " \"submitted_as_disease_name\" TEXT, \"submitted_as_moi_id\" TEXT, \"submitted_as_moi_name\" TEXT, \"submitted_as_submitter_id\" TEXT,\r\n",
      " \"submitted_as_submitter_name\" TEXT, \"submitted_as_classification_id\" TEXT, \"submitted_as_classification_name\" TEXT, \"submitted_as_date\" TEXT,\r\n",
      " \"submitted_as_public_report_url\" TEXT, \"submitted_as_notes\" TEXT, \"submitted_as_pmids\" TEXT, \"submitted_as_assertion_criteria_url\" TEXT,\r\n",
      " \"submitted_as_submission_id\" TEXT, \"submitted_run_date\" TEXT);\r\n"
     ]
    }
   ],
   "execution_count": 5,
   "source": "!sqlite3 monarch-kg.db \".schema gencc\"",
   "id": "55546affa32f8b7"
  },
  {
   "metadata": {},
   "cell_type": "markdown",
   "source": "Check out how many GO associations we'll bring in when limiting to just genes in the gencc file (especially to make sure it's not zero!)",
   "id": "db17f71e63f53ccb"
  },
  {
   "metadata": {
    "ExecuteTime": {
     "end_time": "2024-08-13T18:54:13.506516Z",
     "start_time": "2024-08-13T18:54:07.568176Z"
    }
   },
   "cell_type": "code",
   "source": "!sqlite3 monarch-kg.db \"select count(*) from edges where subject in (select distinct gene_curie from gencc) and provided_by = 'go_annotation_edges'\"",
   "id": "ab8fee3762d1255d",
   "outputs": [
    {
     "name": "stdout",
     "output_type": "stream",
     "text": [
      "252959\r\n"
     ]
    }
   ],
   "execution_count": 6
  },
  {
   "metadata": {},
   "cell_type": "markdown",
   "source": "This loads up both monarch-kg.db and go.db so that associations can be copied over. Here it's taking any association that has a subject in the gencc gene_curie column and a provided_by value that says it came from the go_annotation_edges ingest. (That second constraint isn't the best, but category, predicate & primary_knowledge_source all have a lot of values coming in from this ingest) ",
   "id": "cfcbddea5ef937ce"
  },
  {
   "metadata": {
    "ExecuteTime": {
     "end_time": "2024-08-13T18:56:34.343737Z",
     "start_time": "2024-08-13T18:56:28.166749Z"
    }
   },
   "cell_type": "code",
   "source": "!sqlite3 -cmd \"attach 'monarch-kg.db' as monarch\" go.db \"insert into term_association (id, subject, predicate, object, evidence_type, publication, source) select id, subject, predicate, object, has_evidence as evidence_type, publications as publication, primary_knowledge_source as source from monarch.edges where subject like 'HGNC:%' and object like 'GO:%' and subject in (select distinct gene_curie from monarch.gencc);\"\n",
   "id": "2d153c702bb483f1",
   "outputs": [],
   "execution_count": 8
  },
  {
   "metadata": {},
   "cell_type": "markdown",
   "source": "Confirm that go.db now has associations",
   "id": "2a985fd0a6687a43"
  },
  {
   "metadata": {
    "ExecuteTime": {
     "end_time": "2024-09-03T16:19:22.500082Z",
     "start_time": "2024-09-03T16:19:22.064768Z"
    }
   },
   "cell_type": "code",
   "source": "!sqlite3 -markdown go.db \"select predicate, count(*) from term_association group by predicate\"",
   "id": "d1f5f6be83de6b8d",
   "outputs": [
    {
     "name": "stdout",
     "output_type": "stream",
     "text": [
      "|                     predicate                      | count(*) |\r\n",
      "|----------------------------------------------------|----------|\r\n",
      "| biolink:active_in                                  | 6227     |\r\n",
      "| biolink:actively_involved_in                       | 70456    |\r\n",
      "| biolink:acts_upstream_of                           | 282      |\r\n",
      "| biolink:acts_upstream_of_negative_effect           | 18       |\r\n",
      "| biolink:acts_upstream_of_or_within                 | 1261     |\r\n",
      "| biolink:acts_upstream_of_or_within_negative_effect | 7        |\r\n",
      "| biolink:acts_upstream_of_or_within_positive_effect | 21       |\r\n",
      "| biolink:acts_upstream_of_positive_effect           | 45       |\r\n",
      "| biolink:colocalizes_with                           | 474      |\r\n",
      "| biolink:contributes_to                             | 591      |\r\n",
      "| biolink:enables                                    | 107246   |\r\n",
      "| biolink:located_in                                 | 59370    |\r\n",
      "| biolink:part_of                                    | 6961     |\r\n"
     ]
    }
   ],
   "execution_count": 1
  },
  {
   "metadata": {},
   "cell_type": "markdown",
   "source": "From a duckdb instance, export a list of genes and their associated GO terms",
   "id": "1ae7ac1b0e54a95e"
  },
  {
   "metadata": {
    "ExecuteTime": {
     "end_time": "2024-09-03T16:28:16.329617Z",
     "start_time": "2024-09-03T16:28:15.679588Z"
    }
   },
   "cell_type": "code",
   "source": [
    "\n",
    "!duckdb monarch-kg.duckdb \"copy (select subject, string_agg(object,'|') from denormalized_edges where subject_category = 'biolink:Gene' and subject_namespace = 'HGNC' and object_namespace = 'GO' group by all) to 'go_list_per_gene.tsv' (delimiter '\\t');\""
   ],
   "id": "d6b20b5adaa7ca34",
   "outputs": [],
   "execution_count": 3
  }
 ],
 "metadata": {
  "kernelspec": {
   "display_name": "Python 3",
   "language": "python",
   "name": "python3"
  },
  "language_info": {
   "codemirror_mode": {
    "name": "ipython",
    "version": 2
   },
   "file_extension": ".py",
   "mimetype": "text/x-python",
   "name": "python",
   "nbconvert_exporter": "python",
   "pygments_lexer": "ipython2",
   "version": "2.7.6"
  }
 },
 "nbformat": 4,
 "nbformat_minor": 5
}
